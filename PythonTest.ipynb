{
  "nbformat": 4,
  "nbformat_minor": 0,
  "metadata": {
    "colab": {
      "name": "PythonTest.ipynb",
      "provenance": []
    },
    "kernelspec": {
      "name": "python3",
      "display_name": "Python 3"
    }
  },
  "cells": [
    {
      "cell_type": "markdown",
      "metadata": {
        "id": "o3CoIPQzC-_W"
      },
      "source": [
        "1. Write a function that takes a number and returns a string that is its equivalent to binary number (Solve using recursive method).\r\n",
        "Sample Input=11\r\n",
        "Sample Output=”1011”\r\n",
        "\r\n"
      ]
    },
    {
      "cell_type": "markdown",
      "metadata": {
        "id": "1AvN-TmBCXFw"
      },
      "source": [
        ""
      ]
    },
    {
      "cell_type": "code",
      "metadata": {
        "colab": {
          "base_uri": "https://localhost:8080/"
        },
        "id": "Zbl6CNTsDEIp",
        "outputId": "377f0639-7ae8-4d88-9e59-c95f4f53d11c"
      },
      "source": [
        "# Function to print binary number using recursion\r\n",
        "def find(num):\r\n",
        "    if(num==0):\r\n",
        "        return\r\n",
        "    else:\r\n",
        "        find(int(num/2))\r\n",
        "        print(num%2,end=\"\")\r\n",
        "\r\n",
        "# decimal number\r\n",
        "n = 10\r\n",
        "find(n)\r\n",
        "print()\r\n"
      ],
      "execution_count": 59,
      "outputs": [
        {
          "output_type": "stream",
          "text": [
            "1010\n"
          ],
          "name": "stdout"
        }
      ]
    },
    {
      "cell_type": "code",
      "metadata": {
        "id": "sNPBMnlsOlab"
      },
      "source": [
        ""
      ],
      "execution_count": null,
      "outputs": []
    },
    {
      "cell_type": "markdown",
      "metadata": {
        "id": "_VObbL4RHB6_"
      },
      "source": [
        "2. Given two arrays, write a function to compute their intersection. Time complexity should be Big 0 (n).\r\n",
        "Sample Input: Number1 = [4,9,5], Number2= [9,4,9,8,4]\r\n",
        "Sample Output: [9,4]\r\n",
        "\r\n"
      ]
    },
    {
      "cell_type": "code",
      "metadata": {
        "id": "Qkfc3jBeHIl1",
        "colab": {
          "base_uri": "https://localhost:8080/"
        },
        "outputId": "9025ad65-17c9-40ce-961d-ca80b8f7ffa3"
      },
      "source": [
        "\r\n",
        " \r\n",
        "def intersection(a, b, n, m):\r\n",
        " # initializing the index of the array\r\n",
        "    i = 0\r\n",
        "    j = 0\r\n",
        " # compare the arrays in loop\r\n",
        "    while (i < n and j < m):\r\n",
        " \r\n",
        "        if (a[i] > b[j]):\r\n",
        "            j += 1\r\n",
        " \r\n",
        "        else:\r\n",
        "            if (b[j] > a[i]):\r\n",
        "                i += 1\r\n",
        " \r\n",
        "            else:\r\n",
        "                # when both are equal\r\n",
        "                print(a[i], end=\" \")\r\n",
        "                i += 1\r\n",
        "                j += 1\r\n",
        " \r\n",
        " \r\n",
        "# Driver Code\r\n",
        "if __name__ == \"__main__\":\r\n",
        " \r\n",
        "    a = [4,9,5]\r\n",
        "    b = [9,4,9,8,4]\r\n",
        " \r\n",
        "    n = len(a)\r\n",
        "    m = len(b)\r\n",
        "     \r\n",
        "    # sort\r\n",
        "    a.sort()\r\n",
        "    b.sort()\r\n",
        "     \r\n",
        "    # function call\r\n",
        "    intersection(a, b, n, m)\r\n",
        " \r\n"
      ],
      "execution_count": 57,
      "outputs": [
        {
          "output_type": "stream",
          "text": [
            "4 9 "
          ],
          "name": "stdout"
        }
      ]
    },
    {
      "cell_type": "code",
      "metadata": {
        "id": "_BCAnrKrFVxA"
      },
      "source": [
        ""
      ],
      "execution_count": null,
      "outputs": []
    },
    {
      "cell_type": "markdown",
      "metadata": {
        "id": "vx_TzgNZHJwP"
      },
      "source": [
        "3. You are given an array of positive integers. Is it possible to advance from the start of the array to the last element given that the maximum you can advance from a position is based on the value of the array at the index you are currently present on?\r\n",
        "\r\n",
        "Sample Input: [3,3,1,0,2,0,1]\r\n",
        "Sample Output: True/False #output can’t be both.\r\n",
        "\r\n"
      ]
    },
    {
      "cell_type": "code",
      "metadata": {
        "id": "5Jy815XsHUSm",
        "colab": {
          "base_uri": "https://localhost:8080/"
        },
        "outputId": "6becde3a-6333-43c2-b85a-99efc8d22c3e"
      },
      "source": [
        "\r\n",
        "def canAdvance(self, nums): # index no position\r\n",
        "      n = len(nums)-1  # initialize the number\r\n",
        "    # run a loop to find maximum jump\r\n",
        "      for i in range(n-1,-1,-1):\r\n",
        "         if nums[i] + i>=n:\r\n",
        "            n = i\r\n",
        "      return n ==0\r\n",
        "ob1 = Solution()\r\n",
        "print(ob1.canAdvance([2,3,1,1,4]))"
      ],
      "execution_count": 43,
      "outputs": [
        {
          "output_type": "stream",
          "text": [
            "True\n"
          ],
          "name": "stdout"
        }
      ]
    },
    {
      "cell_type": "markdown",
      "metadata": {
        "id": "8qrv1wvUHU56"
      },
      "source": [
        "4. Given an array, write a function that returns a fixed point in the array. Solve using Linear search. \r\n",
        "Sample Input: A= [-10, -5,0,3,7]\r\n",
        "Sample Output:3\r\n"
      ]
    },
    {
      "cell_type": "code",
      "metadata": {
        "id": "AjD58KNcHa-G",
        "colab": {
          "base_uri": "https://localhost:8080/"
        },
        "outputId": "28a3a966-67e6-42ad-fea5-b659ac3b7eed"
      },
      "source": [
        "# Python program to check fixed point  \r\n",
        "# in an array using linear search \r\n",
        "def linearSearch(arr, n): \r\n",
        "    for i in range(n): \r\n",
        "        if arr[i] is i: \r\n",
        "            return i \r\n",
        "    # If no fixed point present then return -1 \r\n",
        "    return -1\r\n",
        "  \r\n",
        "# Driver program to check above functions \r\n",
        "arr = [-10, -5,0,3,7] \r\n",
        "n = len(arr) \r\n",
        "print(\"Fixed Point is \" + str(linearSearch(arr,n))) "
      ],
      "execution_count": 28,
      "outputs": [
        {
          "output_type": "stream",
          "text": [
            "Fixed Point is 3\n"
          ],
          "name": "stdout"
        }
      ]
    },
    {
      "cell_type": "markdown",
      "metadata": {
        "id": "PCOjY9hyHbsM"
      },
      "source": [
        "5.Given an integer, write a function to find all prime numbers of the integer. \r\n",
        "Sample Input=10\r\n",
        "Sample Output= {2,3,5,7}\r\n"
      ]
    },
    {
      "cell_type": "code",
      "metadata": {
        "id": "gXSaepvJHiVN",
        "colab": {
          "base_uri": "https://localhost:8080/"
        },
        "outputId": "16c8cc7e-b206-4623-c09e-b32cb2148c8b"
      },
      "source": [
        "# Take the value of an integer and store in a variable\r\n",
        "n=int(input(\"Enter an integer:\"))\r\n",
        "print(\"Factors are:\")\r\n",
        "\r\n",
        "#Using while loop, first obtain the factors of the number\r\n",
        "#Using another while loop within previous one compute if the factors are prime or not\r\n",
        "\r\n",
        "i=1\r\n",
        "while(i<=n):       \r\n",
        "    k=0\r\n",
        "    if(n%i==0):\r\n",
        "        j=1\r\n",
        "        while(j<=i):\r\n",
        "            if(i%j==0):\r\n",
        "                k=k+1\r\n",
        "            j=j+1\r\n",
        "        if(k==2):\r\n",
        "            print(i)\r\n",
        "    i=i+1\r\n",
        "\r\n",
        "\r\n",
        "\r\n"
      ],
      "execution_count": 18,
      "outputs": [
        {
          "output_type": "stream",
          "text": [
            "Enter an integer:150\n",
            "Factors are:\n",
            "2\n",
            "3\n",
            "5\n"
          ],
          "name": "stdout"
        }
      ]
    },
    {
      "cell_type": "code",
      "metadata": {
        "id": "P3sa5QDLf5Ek"
      },
      "source": [
        ""
      ],
      "execution_count": 32,
      "outputs": []
    }
  ]
}